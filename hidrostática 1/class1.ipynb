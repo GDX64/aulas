{
 "cells": [
  {
   "cell_type": "markdown",
   "metadata": {},
   "source": [
    "# Hidrostática"
   ]
  },
  {
   "cell_type": "markdown",
   "metadata": {},
   "source": [
    "É a área da física (ramo da mecânica dos fluídos) que estuda os fluidos que não estão em movimento. A hidrodinâmica é o estudo dos fluídos em movimento, e é uma área extremamente complexa e ativa da física e matemática.\n",
    "**Conceitos importantes**:\n",
    "- O que é um fluído\n",
    "- Líquidos e gases\n",
    "- Densidade de um fluído\n",
    "- Pressão em um fluído"
   ]
  },
  {
   "cell_type": "markdown",
   "metadata": {},
   "source": [
    "## O que é um fluído?\n",
    "\n",
    "Um fluído é uma substância que escoa, porque não resisiste às tensões de **cisalhamento**\n",
    "\n",
    "Um líquido é um fluído que não pode ser comprimido."
   ]
  },
  {
   "cell_type": "markdown",
   "metadata": {},
   "source": [
    "## Densidade"
   ]
  },
  {
   "cell_type": "markdown",
   "metadata": {},
   "source": [
    "$\\rho=\\frac{m}{V}$\n",
    "\n",
    "Unidades do SI: $Kg/m^3$"
   ]
  },
  {
   "cell_type": "markdown",
   "metadata": {},
   "source": [
    "### Aquecimento\n",
    "\n",
    "Sabendo que 1L de água pura tem aproximadamente 1Kg em pressão atmosférica, qual seria a densidade da água em Kg/m³?"
   ]
  },
  {
   "cell_type": "markdown",
   "metadata": {},
   "source": [
    "$1L=dcm^3$"
   ]
  },
  {
   "cell_type": "markdown",
   "metadata": {},
   "source": [
    "1dcm³=(0.1)³"
   ]
  },
  {
   "cell_type": "markdown",
   "metadata": {},
   "source": [
    "$1L=0.001m^3=10^{-3}m^3$"
   ]
  },
  {
   "cell_type": "markdown",
   "metadata": {},
   "source": [
    "Qual é a massa de uma esfera de raio 4m cheia de água?"
   ]
  },
  {
   "cell_type": "markdown",
   "metadata": {},
   "source": [
    "$V=4/3\\pi r^3$"
   ]
  },
  {
   "cell_type": "markdown",
   "metadata": {},
   "source": [
    "$V=256/3 \\pi m^3$"
   ]
  },
  {
   "cell_type": "markdown",
   "metadata": {},
   "source": [
    "$V*\\rho=m$ -> $256/3 \\pi m^3 1000 Kg/m^3$"
   ]
  },
  {
   "cell_type": "markdown",
   "metadata": {},
   "source": [
    "$256000/3 \\pi Kg$"
   ]
  },
  {
   "cell_type": "code",
   "execution_count": 21,
   "metadata": {},
   "outputs": [
    {
     "data": {
      "text/plain": [
       "268.082573106329"
      ]
     },
     "execution_count": 21,
     "metadata": {},
     "output_type": "execute_result"
    }
   ],
   "source": [
    "256*np.pi/3"
   ]
  },
  {
   "cell_type": "markdown",
   "metadata": {},
   "source": [
    "## Pressão\n",
    "\n",
    "$P=\\frac{F}{A}$\n",
    "\n",
    "Unidades $N/m^2$ (ou Pascal)"
   ]
  },
  {
   "cell_type": "markdown",
   "metadata": {},
   "source": [
    "Qual é a pressão na superfície de uma disco de circular de alumínio de 1m de raio que uma tem uma massa de 2Kg e está apoiada sobre uma mesa? "
   ]
  },
  {
   "cell_type": "markdown",
   "metadata": {},
   "source": [
    "20/3.14 N/m²"
   ]
  },
  {
   "cell_type": "markdown",
   "metadata": {},
   "source": [
    "## Pressão e densidade em um fluído"
   ]
  },
  {
   "cell_type": "markdown",
   "metadata": {},
   "source": [
    "![Hidrostatica](img/pic1.jpg)"
   ]
  },
  {
   "cell_type": "markdown",
   "metadata": {},
   "source": [
    "Paralelepípedo: 2x0.5x5\n",
    "Área da base: 1m²\n",
    "Volume: 5m³\n",
    "massa: 5m³*1000Kg/m³ = 5000Kg\n",
    "\n",
    "---\n",
    "\n",
    "Força: m*g=5*10^4N\n",
    "\n",
    "Pressão: 50KN/m²"
   ]
  },
  {
   "cell_type": "markdown",
   "metadata": {},
   "source": [
    "## Princípio de Pascal\n",
    "\n",
    "<img src=\"https://www.aplusphysics.com/courses/honors/fluids/images/PascalPrinciple.png\" style=\"width: 600px\">"
   ]
  },
  {
   "cell_type": "markdown",
   "metadata": {},
   "source": [
    "$P_1 = P_2 = \\frac{F_1}{A_1} = \\frac{F_2}{A_2}$"
   ]
  },
  {
   "cell_type": "markdown",
   "metadata": {},
   "source": [
    "Se o primeiro disco tem diâmetro de 2m e o segundo disco de 10m, sabendo que F2=500N qual deve ser o valor de F1 para que o sistema permaneça em equilíbrio? "
   ]
  },
  {
   "cell_type": "code",
   "execution_count": 4,
   "metadata": {},
   "outputs": [],
   "source": [
    "import matplotlib.pyplot as plt\n",
    "import numpy as np"
   ]
  },
  {
   "cell_type": "code",
   "execution_count": 14,
   "metadata": {},
   "outputs": [
    {
     "data": {
      "text/plain": [
       "[<matplotlib.lines.Line2D at 0x1fdf02a5ac0>]"
      ]
     },
     "execution_count": 14,
     "metadata": {},
     "output_type": "execute_result"
    },
    {
     "data": {
      "image/png": "[encoded data removed]",
      "text/plain": [
       "<Figure size 432x288 with 1 Axes>"
      ]
     },
     "metadata": {
      "needs_background": "light"
     },
     "output_type": "display_data"
    }
   ],
   "source": [
    "x=np.array(range(1,100), 'float64')\n",
    "plt.plot(x**2)"
   ]
  }
 ],
 "metadata": {
  "kernelspec": {
   "display_name": "Python 3",
   "language": "python",
   "name": "python3"
  },
  "language_info": {
   "codemirror_mode": {
    "name": "ipython",
    "version": 3
   },
   "file_extension": ".py",
   "mimetype": "text/x-python",
   "name": "python",
   "nbconvert_exporter": "python",
   "pygments_lexer": "ipython3",
   "version": "3.8.5"
  }
 },
 "nbformat": 4,
 "nbformat_minor": 4
}
